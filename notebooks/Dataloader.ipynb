{
 "cells": [
  {
   "cell_type": "code",
   "execution_count": null,
   "metadata": {},
   "outputs": [],
   "source": [
    "%load_ext autoreload\n",
    "%autoreload 2\n",
    "%matplotlib inline"
   ]
  },
  {
   "cell_type": "code",
   "execution_count": null,
   "metadata": {},
   "outputs": [],
   "source": [
    "import sys\n",
    "sys.path.append(\"../src\")"
   ]
  },
  {
   "cell_type": "code",
   "execution_count": null,
   "metadata": {},
   "outputs": [],
   "source": [
    "from engine import InpaintingEngine"
   ]
  },
  {
   "cell_type": "code",
   "execution_count": null,
   "metadata": {},
   "outputs": [],
   "source": [
    "class Hparams(object):\n",
    "    def __init__(self):\n",
    "        self.train_images_dir = \"../dataset/train/validation/\"\n",
    "        self.train_mask_dir = \"../dataset/irregular_mask/disocclusion_img_mask\"\n",
    "        self.train_invert_mask = False\n",
    "        \n",
    "        self.epochs = 2\n",
    "        self.epoch_length = 100\n",
    "        \n",
    "        self.valid_images_dir = \"../dataset/train/test/\"\n",
    "        self.valid_mask_dir = \"../dataset/irregular_mask/disocclusion_img_mask\"\n",
    "        self.valid_invert_mask = False\n",
    "        \n",
    "        self.channels = 3\n",
    "        self.height = 512\n",
    "        self.width = 512\n",
    "        \n",
    "        self.num_workers = 4\n",
    "        self.train_bs = 16\n",
    "        self.val_bs = 16\n",
    "        self.lr = 0.0003\n",
    "        \n",
    "        self.name = \"test\"\n",
    "        self.checkpoint_dir = None\n",
    "        self.save_dir = \"../saved_models\"\n",
    "        self.n_saved = 5\n",
    "        self.log_every = 1\n",
    "        self.tags = \"test,local\"\n",
    "        \n",
    "        self.loss_hole = 6.0\n",
    "        self.loss_valid = 1.0\n",
    "        self.loss_perceptual = 0.05\n",
    "        self.loss_style_out = 120.0\n",
    "        self.loss_style_comp = 120.0\n",
    "        self.loss_tv = 0.1\n",
    "        \n",
    "        self.aug_name = \"baseline\"\n",
    "        self.model_name = \"baseline\"\n",
    "        self.scheduler_name = \"baseline\"\n",
    "        self.optimizer_name = \"baseline\"\n",
    "        \n",
    "        self.add_pbar = False\n",
    "        self.use_amp = True\n",
    "        self.load_model_only = False"
   ]
  },
  {
   "cell_type": "code",
   "execution_count": null,
   "metadata": {},
   "outputs": [],
   "source": [
    "from config_params.parameters import Parameters\n",
    "hparams = Hparams()\n",
    "parameters = Parameters(hparams)"
   ]
  },
  {
   "cell_type": "code",
   "execution_count": null,
   "metadata": {},
   "outputs": [],
   "source": [
    "engine = InpaintingEngine(parameters)"
   ]
  },
  {
   "cell_type": "code",
   "execution_count": null,
   "metadata": {},
   "outputs": [],
   "source": [
    "engine.train({\"max_epochs\":parameters.epochs, \"epoch_length\":parameters.epoch_length})"
   ]
  },
  {
   "cell_type": "code",
   "execution_count": null,
   "metadata": {},
   "outputs": [],
   "source": [
    "engine.logger.npt_logger.close()"
   ]
  },
  {
   "cell_type": "code",
   "execution_count": null,
   "metadata": {},
   "outputs": [],
   "source": []
  }
 ],
 "metadata": {
  "kernelspec": {
   "display_name": "Python 3",
   "language": "python",
   "name": "python3"
  },
  "language_info": {
   "codemirror_mode": {
    "name": "ipython",
    "version": 3
   },
   "file_extension": ".py",
   "mimetype": "text/x-python",
   "name": "python",
   "nbconvert_exporter": "python",
   "pygments_lexer": "ipython3",
   "version": "3.7.4"
  }
 },
 "nbformat": 4,
 "nbformat_minor": 4
}
